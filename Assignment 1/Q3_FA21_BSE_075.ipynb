{
  "cells": [
    {
      "cell_type": "markdown",
      "metadata": {
        "id": "xnjp8Ikm60wb"
      },
      "source": [
        "# 12 March, 2024\n",
        "# CSC354 – Assignment1 – ML – Concept Learning\n",
        "# Muhammad Umar Asif\n",
        "# FA21-BSE-075\n",
        "# It is the implementation of candidate elimination algorithm to find the set of all hypothesis consistent with the training examples."
      ]
    },
    {
      "cell_type": "code",
      "execution_count": 35,
      "metadata": {
        "collapsed": true,
        "id": "qnbx0sm860wc"
      },
      "outputs": [],
      "source": [
        "import random\n",
        "import csv"
      ]
    },
    {
      "cell_type": "code",
      "source": [
        "data = [('big', 'red', 'circle', 'N'),\n",
        " ('small', 'red', 'triangle', 'N'),\n",
        " ('small', 'red', 'circle', 'Y'),\n",
        " ('big', 'blue', 'circle', 'N'),\n",
        " ('small', 'blue', 'circle', 'Y')]"
      ],
      "metadata": {
        "id": "e-0g5z9PJ6vR"
      },
      "execution_count": 36,
      "outputs": []
    },
    {
      "cell_type": "code",
      "source": [
        "def attribute_values(exp):\n",
        "    d = [set() for i in exp[0]]\n",
        "    for x in exp:\n",
        "        for i, xi in enumerate(x):\n",
        "            d[i].add(xi)\n",
        "    return [list(sorted(x)) for x in d]\n",
        "\n",
        "attribute_values(data)"
      ],
      "metadata": {
        "colab": {
          "base_uri": "https://localhost:8080/"
        },
        "id": "1Rgt_m_HKNTJ",
        "outputId": "dbeb151e-72d5-4530-994b-01286791ea9e"
      },
      "execution_count": 38,
      "outputs": [
        {
          "output_type": "execute_result",
          "data": {
            "text/plain": [
              "[['big', 'small'], ['blue', 'red'], ['circle', 'triangle'], ['N', 'Y']]"
            ]
          },
          "metadata": {},
          "execution_count": 38
        }
      ]
    },
    {
      "cell_type": "code",
      "execution_count": 39,
      "metadata": {
        "collapsed": true,
        "id": "2M7PqsxH60wd"
      },
      "outputs": [],
      "source": [
        "def general(h1, h2):\n",
        "    more_general_parts = []\n",
        "    for x, y in zip(h1, h2):\n",
        "        mg = x == \"?\" or (x != \"0\" and (x == y or y == \"0\"))\n",
        "        more_general_parts.append(mg)\n",
        "    return all(more_general_parts)\n",
        "\n",
        "def fulfills(exp, hypothesis):\n",
        "    return general(hypothesis, exp)\n",
        "\n",
        "def minimal_g(h, x):\n",
        "    h_new = list(h)\n",
        "    for i in range(len(h)):\n",
        "        if not fulfills(x[i:i+1], h[i:i+1]):\n",
        "            h_new[i] = '?' if h[i] != '0' else x[i]\n",
        "    return [tuple(h_new)]\n",
        "\n",
        "def minimal_s(h, domains, x):\n",
        "    results = []\n",
        "    for i in range(len(h)):\n",
        "        if h[i] == \"?\":\n",
        "            for val in domains[i]:\n",
        "                if x[i] != val:\n",
        "                    h_new = h[:i] + (val,) + h[i+1:]\n",
        "                    results.append(h_new)\n",
        "        elif h[i] != \"0\":\n",
        "            h_new = h[:i] + ('0',) + h[i+1:]\n",
        "            results.append(h_new)\n",
        "    return results"
      ]
    },
    {
      "cell_type": "code",
      "execution_count": 41,
      "metadata": {
        "collapsed": true,
        "colab": {
          "base_uri": "https://localhost:8080/"
        },
        "id": "cdhHfLyK60we",
        "outputId": "8ebc891d-83ac-4ba9-f3ec-be25a7faa4ea"
      },
      "outputs": [
        {
          "output_type": "stream",
          "name": "stdout",
          "text": [
            "\n",
            " G[0]: {('?', '?', '?')}\n",
            "\n",
            " S[0]: {('0', '0', '0')}\n",
            "\n",
            " G[1]: {('?', '?', 'triangle'), ('?', 'blue', '?'), ('small', '?', '?')}\n",
            "\n",
            " S[1]: {('0', '0', '0')}\n",
            "\n",
            " G[2]: {('?', 'blue', '?'), ('small', '?', 'circle'), ('big', '?', 'triangle')}\n",
            "\n",
            " S[2]: {('0', '0', '0')}\n",
            "\n",
            " G[3]: {('small', '?', 'circle')}\n",
            "\n",
            " S[3]: {('small', 'red', 'circle')}\n",
            "\n",
            " G[4]: {('small', '?', 'circle')}\n",
            "\n",
            " S[4]: {('small', 'red', 'circle')}\n",
            "\n",
            " G[5]: {('small', '?', 'circle')}\n",
            "\n",
            " S[5]: {('small', '?', 'circle')}\n"
          ]
        }
      ],
      "source": [
        "def g_null(n):\n",
        "    return (\"?\",)*n\n",
        "\n",
        "def s_null(n):\n",
        "    return ('0',)*n\n",
        "\n",
        "def candidate_elimination(examples):\n",
        "    values = attribute_values(examples)[:-1]\n",
        "\n",
        "    G = set([g_null(len(values))])\n",
        "    S = set([s_null(len(values))])\n",
        "    i=0\n",
        "    print(\"\\n G[{0}]:\".format(i),G)\n",
        "    print(\"\\n S[{0}]:\".format(i),S)\n",
        "    for xcx in examples:\n",
        "        i=i+1\n",
        "        x, cx = xcx[:-1], xcx[-1]\n",
        "        if cx=='Y':\n",
        "            G = {g for g in G if fulfills(x, g)}\n",
        "            S = generalize_S(x, G, S)\n",
        "        else: # x is negative example\n",
        "            S = {s for s in S if not fulfills(x, s)}\n",
        "            G = specialize_G(x, values, G, S)\n",
        "        print(\"\\n G[{0}]:\".format(i),G)\n",
        "        print(\"\\n S[{0}]:\".format(i),S)\n",
        "    return\n",
        "\n",
        "def generalize_S(x, G, S):\n",
        "    S_prev = list(S)\n",
        "    for s in S_prev:\n",
        "        if s not in S:\n",
        "            continue\n",
        "        if not fulfills(x, s):\n",
        "            S.remove(s)\n",
        "            Splus = minimal_g(s, x)\n",
        "            S.update([h for h in Splus if any([general(g,h)\n",
        "                                               for g in G])])\n",
        "            S.difference_update([h for h in S if\n",
        "                                 any([general(h, h1)\n",
        "                                      for h1 in S if h != h1])])\n",
        "    return S\n",
        "\n",
        "def specialize_G(x, domains, G, S):\n",
        "    G_prev = list(G)\n",
        "    for g in G_prev:\n",
        "        if g not in G:\n",
        "            continue\n",
        "        if fulfills(x, g):\n",
        "            G.remove(g)\n",
        "            Gminus = minimal_s(g, domains, x)\n",
        "            G.update([h for h in Gminus if any([general(h, s)\n",
        "                                                for s in S])])\n",
        "            G.difference_update([h for h in G if\n",
        "                                 any([general(g1, h)\n",
        "                                      for g1 in G if h != g1])])\n",
        "    return G\n",
        "\n",
        "candidate_elimination(data)"
      ]
    }
  ],
  "metadata": {
    "kernelspec": {
      "display_name": "Python 3",
      "language": "python",
      "name": "python3"
    },
    "language_info": {
      "codemirror_mode": {
        "name": "ipython",
        "version": 3
      },
      "file_extension": ".py",
      "mimetype": "text/x-python",
      "name": "python",
      "nbconvert_exporter": "python",
      "pygments_lexer": "ipython3",
      "version": "3.6.3"
    },
    "colab": {
      "provenance": []
    }
  },
  "nbformat": 4,
  "nbformat_minor": 0
}